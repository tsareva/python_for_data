{
 "cells": [
  {
   "cell_type": "code",
   "execution_count": 2,
   "metadata": {},
   "outputs": [
   ],
   "source": [
    "import os\n",
    "directory = r\"C:\\Users\\ATsareva\\Desktop\\LARP\"\n",
    "os.chdir(directory)\n",
    "from vk_tools import *"
   ]
  },
  {
   "cell_type": "code",
   "execution_count": 3,
   "metadata": {
    "collapsed": true
   },
   "outputs": [],
   "source": [
    "import pandas as pd\n",
    "import time\n",
    "import sqlite3"
   ]
  },
  {
   "cell_type": "code",
   "execution_count": 4,
   "metadata": {
    "collapsed": true
   },
   "outputs": [],
   "source": [
    "from sqlalchemy import create_engine\n",
    "engine = create_engine('sqlite:///ki.db')"
   ]
  },
  {
   "cell_type": "code",
   "execution_count": 5,
   "metadata": {
    "collapsed": true
   },
   "outputs": [],
   "source": [
    "def get_group_id(vk_club):\n",
    "    if vk_club.find('club') != -1:\n",
    "        group_id = vk_club[4:]\n",
    "    elif vk_club.find('event') != -1:\n",
    "        group_id = vk_club[5:]\n",
    "    elif vk_club.find('public') != -1:\n",
    "        group_id = vk_club[6:]\n",
    "    else:\n",
    "        group_id = vk_club\n",
    "    try:\n",
    "        int(group_id)\n",
    "    except: \n",
    "        group_id = vk_club\n",
    "    return group_id"
   ]
  },
  {
   "cell_type": "code",
   "execution_count": 16,
   "metadata": {},
   "outputs": [],
   "source": [
    "df = pd.read_csv('ki_games.csv')\n",
    "\n",
    "#only larps from SPb&LO\n",
    "spb_only = (df.sub_region_id==1)|(df.sub_region_id==2)\n",
    "#delete konvents, dances, competitions, festivals\n",
    "larps_only = (df.type!=5)&(df.type!=6)&(df.type!=10)&(df.type!=13)\n",
    "\n",
    "spb_larps = df[(larps_only)&(spb_only)].copy()\n",
    "spb_larps.loc['begin'] = pd.to_datetime(spb_larps.begin)"
   ]
  },
  {
   "cell_type": "code",
   "execution_count": 17,
   "metadata": {
    "collapsed": true
   },
   "outputs": [],
   "source": [
    "groups = spb_larps.vk_club.dropna().values"
   ]
  },
  {
   "cell_type": "code",
   "execution_count": 18,
   "metadata": {
    "collapsed": true
   },
   "outputs": [],
   "source": [
    "group_ids = []\n",
    "for vk_club in groups:\n",
    "    group_id = get_group_id(vk_club)\n",
    "    if group_id not in group_ids: group_ids.append(group_id)\n",
    "\n",
    "groupinfo = get_groupinfo(group_ids)"
   ]
  },
  {
   "cell_type": "code",
   "execution_count": 20,
   "metadata": {
    "collapsed": true
   },
   "outputs": [],
   "source": [
    "gid_list = []\n",
    "for group in groupinfo:\n",
    "    if group['id'] not in gid_list: gid_list.append(group['id'])"
   ]
  },
  {
   "cell_type": "code",
   "execution_count": 38,
   "metadata": {},
   "outputs": [],
   "source": [
    "def get_members_df(members):\n",
    "    list_of_members = []\n",
    "    for member in members:\n",
    "        list_of_members.append(member['id'])\n",
    "    members_df = pd.DataFrame(columns = ['users', group_id])\n",
    "    members_df.users = list_of_members\n",
    "    members_df[group_id] = 1\n",
    "    \n",
    "    return members_df"
   ]
  },
  {
   "cell_type": "code",
   "execution_count": 81,
   "metadata": {},
   "outputs": [
    {
     "name": "stdout",
     "output_type": "stream",
     "text": [
      "Обработано 1 из 93\n",
      "Обработано 2 из 93\n",
      "Обработано 3 из 93\n",
      "Обработано 4 из 93\n",
      "Обработано 5 из 93\n",
      "Обработано 6 из 93\n",
      "Обработано 7 из 93\n",
      "Обработано 8 из 93\n",
      "Обработано 9 из 93\n",
      "Обработано 10 из 93\n",
      "Обработано 11 из 93\n",
      "Обработано 12 из 93\n",
      "Обработано 13 из 93\n",
      "Обработано 14 из 93\n",
      "Обработано 15 из 93\n",
      "Обработано 16 из 93\n",
      "Обработано 17 из 93\n",
      "Обработано 18 из 93\n",
      "Обработано 19 из 93\n",
      "Обработано 20 из 93\n",
      "Обработано 21 из 93\n",
      "Обработано 22 из 93\n",
      "Обработано 23 из 93\n",
      "Обработано 24 из 93\n",
      "Обработано 25 из 93\n",
      "Обработано 26 из 93\n",
      "Обработано 27 из 93\n",
      "Обработано 28 из 93\n",
      "Обработано 29 из 93\n",
      "Обработано 30 из 93\n",
      "Обработано 31 из 93\n",
      "Обработано 32 из 93\n",
      "Обработано 33 из 93\n",
      "Обработано 34 из 93\n",
      "Обработано 35 из 93\n",
      "Обработано 36 из 93\n",
      "Обработано 37 из 93\n",
      "Обработано 38 из 93\n",
      "Обработано 39 из 93\n",
      "Обработано 40 из 93\n",
      "Обработано 41 из 93\n",
      "Обработано 42 из 93\n",
      "Обработано 43 из 93\n",
      "Обработано 44 из 93\n",
      "Обработано 45 из 93\n",
      "Обработано 46 из 93\n",
      "Обработано 47 из 93\n",
      "Обработано 48 из 93\n",
      "Обработано 49 из 93\n",
      "Обработано 50 из 93\n",
      "Обработано 51 из 93\n",
      "Обработано 52 из 93\n",
      "Обработано 53 из 93\n",
      "Обработано 54 из 93\n",
      "Обработано 55 из 93\n",
      "Обработано 56 из 93\n",
      "Обработано 57 из 93\n",
      "Обработано 58 из 93\n",
      "Обработано 59 из 93\n",
      "Обработано 60 из 93\n",
      "Обработано 61 из 93\n",
      "Обработано 62 из 93\n",
      "Обработано 63 из 93\n",
      "Обработано 64 из 93\n",
      "Обработано 65 из 93\n",
      "Обработано 66 из 93\n",
      "Обработано 67 из 93\n",
      "Обработано 68 из 93\n",
      "Обработано 69 из 93\n",
      "Обработано 70 из 93\n",
      "Обработано 71 из 93\n",
      "Обработано 72 из 93\n",
      "Обработано 73 из 93\n",
      "Обработано 74 из 93\n",
      "Обработано 75 из 93\n",
      "Обработано 76 из 93\n",
      "Обработано 77 из 93\n",
      "Обработано 78 из 93\n",
      "Обработано 79 из 93\n",
      "Обработано 80 из 93\n",
      "Обработано 81 из 93\n",
      "Обработано 82 из 93\n",
      "Обработано 83 из 93\n",
      "Обработано 84 из 93\n",
      "Обработано 85 из 93\n",
      "Обработано 86 из 93\n",
      "Обработано 87 из 93\n",
      "Обработано 88 из 93\n",
      "Обработано 89 из 93\n",
      "Обработано 90 из 93\n",
      "Обработано 91 из 93\n",
      "Обработано 92 из 93\n",
      "Обработано 93 из 93\n"
     ]
    }
   ],
   "source": [
    "subscriptions = pd.DataFrame(columns = ['users'])\n",
    "n = 1\n",
    "for group_id in gid_list:\n",
    "    members = get_members_df(get_all_members(group_id))\n",
    "    subscriptions = pd.merge(subscriptions, members, how='outer',on='users')\n",
    "    print('Обработано %s из %s' % (n, len(gid_list)))\n",
    "    n+=1"
   ]
  },
  {
   "cell_type": "code",
   "execution_count": 82,
   "metadata": {},
   "outputs": [],
   "source": [
    "profiles = pd.DataFrame()\n",
    "s = 0\n",
    "e = 1000\n",
    "while s < len(subscriptions)+1:\n",
    "    add_profiles = get_profiles(subscriptions.users.values[s:e])\n",
    "    profiles = profiles.append(add_profiles)\n",
    "    s+=1000\n",
    "    e+=1000"
   ]
  },
  {
   "cell_type": "code",
   "execution_count": 83,
   "metadata": {},
   "outputs": [],
   "source": [
    "profiles = get_age_from_profile(profiles)"
   ]
  },
  {
   "cell_type": "code",
   "execution_count": 84,
   "metadata": {},
   "outputs": [],
   "source": [
    "profiles.rename(columns={'id': 'users'}, inplace=True)\n",
    "subscriptions = pd.merge(subscriptions, profiles, how='outer', on='users')"
   ]
  },
  {
   "cell_type": "code",
   "execution_count": 120,
   "metadata": {},
   "outputs": [],
   "source": [
    "barrayar = subscriptions[['users', 'city', 'sex', 'age', 121128769]].copy()\n",
    "barrayar[121128769] = barrayar[121128769].fillna(0)\n",
    "barrayar = barrayar.dropna()"
   ]
  },
  {
   "cell_type": "code",
   "execution_count": 100,
   "metadata": {},
   "outputs": [],
   "source": [
    "from sklearn.tree import DecisionTreeClassifier"
   ]
  },
  {
   "cell_type": "code",
   "execution_count": 121,
   "metadata": {
    "collapsed": true
   },
   "outputs": [],
   "source": [
    "barrayar['city_code'] = pd.factorize(barrayar['city'])[0]"
   ]
  },
  {
   "cell_type": "code",
   "execution_count": 122,
   "metadata": {},
   "outputs": [],
   "source": [
    "barrayar.sex = barrayar.sex.astype(int)\n",
    "barrayar.age = barrayar.sex.astype(int)\n",
    "barrayar[121128769] = barrayar[121128769].astype(int)\n"
   ]
  },
  {
   "cell_type": "code",
   "execution_count": 125,
   "metadata": {},
   "outputs": [],
   "source": [
    "y = barrayar[121128769]"
   ]
  },
  {
   "cell_type": "code",
   "execution_count": 127,
   "metadata": {},
   "outputs": [],
   "source": [
    "cities = barrayar.city"
   ]
  },
  {
   "cell_type": "code",
   "execution_count": 129,
   "metadata": {},
   "outputs": [],
   "source": [
    "barrayar.drop(['city'], axis=1, inplace=True)"
   ]
  },
  {
   "cell_type": "code",
   "execution_count": 130,
   "metadata": {
    "collapsed": true
   },
   "outputs": [],
   "source": [
    "X_train, X_holdout, y_train, y_holdout = train_test_split(barrayar.values, y, test_size=0.3,\n",
    "random_state=17)"
   ]
  },
  {
   "cell_type": "code",
   "execution_count": 131,
   "metadata": {
    "collapsed": true
   },
   "outputs": [],
   "source": [
    "tree = DecisionTreeClassifier(max_depth=5, random_state=17)"
   ]
  },
  {
   "cell_type": "code",
   "execution_count": 135,
   "metadata": {},
   "outputs": [
    {
     "data": {
      "text/plain": [
       "1.0"
      ]
     },
     "execution_count": 135,
     "metadata": {},
     "output_type": "execute_result"
    }
   ],
   "source": [
    "from sklearn.metrics import accuracy_score\n",
    "\n",
    "tree_pred = tree.predict(X_holdout)\n",
    "accuracy_score(y_holdout, tree_pred)"
   ]
  },
  {
   "cell_type": "code",
   "execution_count": 139,
   "metadata": {
    "collapsed": true
   },
   "outputs": [],
   "source": [
    "knn = KNeighborsClassifier(n_neighbors=10)"
   ]
  },
  {
   "cell_type": "code",
   "execution_count": 141,
   "metadata": {},
   "outputs": [
    {
     "data": {
      "text/plain": [
       "KNeighborsClassifier(algorithm='auto', leaf_size=30, metric='minkowski',\n",
       "           metric_params=None, n_jobs=1, n_neighbors=10, p=2,\n",
       "           weights='uniform')"
      ]
     },
     "execution_count": 141,
     "metadata": {},
     "output_type": "execute_result"
    }
   ],
   "source": [
    "knn.fit(X_train, y_train)"
   ]
  },
  {
   "cell_type": "code",
   "execution_count": 142,
   "metadata": {},
   "outputs": [
    {
     "data": {
      "text/plain": [
       "0.98863636363636365"
      ]
     },
     "execution_count": 142,
     "metadata": {},
     "output_type": "execute_result"
    }
   ],
   "source": [
    "knn_pred = knn.predict(X_holdout)\n",
    "accuracy_score(y_holdout, knn_pred)"
   ]
  },
  {
   "cell_type": "code",
   "execution_count": 146,
   "metadata": {},
   "outputs": [
    {
     "data": {
      "text/plain": [
       "0    1056\n",
       "dtype: int64"
      ]
     },
     "execution_count": 146,
     "metadata": {},
     "output_type": "execute_result"
    }
   ],
   "source": []
  }
 ],
 "metadata": {
  "kernelspec": {
   "display_name": "Python 3",
   "language": "python",
   "name": "python3"
  },
  "language_info": {
   "codemirror_mode": {
    "name": "ipython",
    "version": 3
   },
   "file_extension": ".py",
   "mimetype": "text/x-python",
   "name": "python",
   "nbconvert_exporter": "python",
   "pygments_lexer": "ipython3",
   "version": "3.6.1"
  }
 },
 "nbformat": 4,
 "nbformat_minor": 2
}
