{
 "cells": [
  {
   "cell_type": "code",
   "execution_count": null,
   "metadata": {
    "collapsed": true
   },
   "outputs": [],
   "source": [
    "G.remove_nodes_from(list(nx.isolates(G)))\n",
    "\n",
    "from community import community\n",
    "\n",
    "unG = nx.DiGraph.to_undirected(G)\n",
    "\n",
    "partition = community.best_partition(unG)\n",
    "\n",
    "nx.write_graphml(community.induced_graph(partition, unG), 'spb_larp_communities.graphml')"
   ]
  }
 ],
 "metadata": {
  "kernelspec": {
   "display_name": "Python 3",
   "language": "python",
   "name": "python3"
  },
  "language_info": {
   "codemirror_mode": {
    "name": "ipython",
    "version": 3
   },
   "file_extension": ".py",
   "mimetype": "text/x-python",
   "name": "python",
   "nbconvert_exporter": "python",
   "pygments_lexer": "ipython3",
   "version": "3.6.1"
  }
 },
 "nbformat": 4,
 "nbformat_minor": 2
}
